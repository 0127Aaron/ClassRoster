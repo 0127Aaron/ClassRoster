{
  "nbformat": 4,
  "nbformat_minor": 0,
  "metadata": {
    "colab": {
      "name": "Untitled0.ipynb",
      "provenance": [],
      "authorship_tag": "ABX9TyPnaLwRmb17j9Upg+vK42Me",
      "include_colab_link": true
    },
    "kernelspec": {
      "name": "python3",
      "display_name": "Python 3"
    },
    "language_info": {
      "name": "python"
    }
  },
  "cells": [
    {
      "cell_type": "markdown",
      "metadata": {
        "id": "view-in-github",
        "colab_type": "text"
      },
      "source": [
        "<a href=\"https://colab.research.google.com/github/0127Aaron/ClassRoster/blob/master/Quiz3%20QTM350.ipynb\" target=\"_parent\"><img src=\"https://colab.research.google.com/assets/colab-badge.svg\" alt=\"Open In Colab\"/></a>"
      ]
    },
    {
      "cell_type": "code",
      "metadata": {
        "colab": {
          "base_uri": "https://localhost:8080/"
        },
        "id": "m3irapYG5cUT",
        "outputId": "05047e2d-cb9f-4238-f77a-324e8ce08683"
      },
      "source": [
        "!wget http://archive.ics.uci.edu/ml/machine-learning-databases/adult/adult.data\n",
        "!wc -l adult.data\n",
        "!wc -w adult.data\n",
        "!head -n 2 adult.data\n",
        "!echo \"age,workclass,fnlwgt,education,education-num,marital-status,occupation,relationship,race,sex,capital-gain,capital-loss,native-country,class\" > header.csv"
      ],
      "execution_count": 1,
      "outputs": [
        {
          "output_type": "stream",
          "name": "stdout",
          "text": [
            "--2021-09-28 01:48:48--  http://archive.ics.uci.edu/ml/machine-learning-databases/adult/adult.data\n",
            "Resolving archive.ics.uci.edu (archive.ics.uci.edu)... 128.195.10.252\n",
            "Connecting to archive.ics.uci.edu (archive.ics.uci.edu)|128.195.10.252|:80... connected.\n",
            "HTTP request sent, awaiting response... 200 OK\n",
            "Length: 3974305 (3.8M) [application/x-httpd-php]\n",
            "Saving to: ‘adult.data.15’\n",
            "\n",
            "adult.data.15       100%[===================>]   3.79M  8.05MB/s    in 0.5s    \n",
            "\n",
            "2021-09-28 01:48:48 (8.05 MB/s) - ‘adult.data.15’ saved [3974305/3974305]\n",
            "\n",
            "32562 adult.data\n",
            "488415 adult.data\n",
            "39, State-gov, 77516, Bachelors, 13, Never-married, Adm-clerical, Not-in-family, White, Male, 2174, 0, 40, United-States, <=50K\n",
            "50, Self-emp-not-inc, 83311, Bachelors, 13, Married-civ-spouse, Exec-managerial, Husband, White, Male, 0, 0, 13, United-States, <=50K\n"
          ]
        }
      ]
    },
    {
      "cell_type": "code",
      "metadata": {
        "id": "PReCjmH09e7A"
      },
      "source": [
        "!cat header.csv adult.data > adult.csv\n"
      ],
      "execution_count": 2,
      "outputs": []
    },
    {
      "cell_type": "code",
      "metadata": {
        "colab": {
          "base_uri": "https://localhost:8080/"
        },
        "id": "SveIaMmIB06w",
        "outputId": "d640b6af-86ad-493d-e444-35cabd0660e5"
      },
      "source": [
        "!head -n 1 adult.csv\n"
      ],
      "execution_count": 3,
      "outputs": [
        {
          "output_type": "stream",
          "name": "stdout",
          "text": [
            "age,workclass,fnlwgt,education,education-num,marital-status,occupation,relationship,race,sex,capital-gain,capital-loss,native-country,class\n"
          ]
        }
      ]
    },
    {
      "cell_type": "code",
      "metadata": {
        "colab": {
          "base_uri": "https://localhost:8080/"
        },
        "id": "TPo-xVwaB2bc",
        "outputId": "bb42f8ed-cb35-4c1a-c117-caa4fb808a1a"
      },
      "source": [
        "!grep \", ?,\" adult.csv | wc -l\n"
      ],
      "execution_count": 9,
      "outputs": [
        {
          "output_type": "stream",
          "name": "stdout",
          "text": [
            "0\n"
          ]
        }
      ]
    },
    {
      "cell_type": "code",
      "metadata": {
        "id": "FGcnSQhtEjBR"
      },
      "source": [
        "!sed \"s/, ?,/,,/g\" adult.csv >  adult.csv\n"
      ],
      "execution_count": 5,
      "outputs": []
    },
    {
      "cell_type": "code",
      "metadata": {
        "id": "volSkBlKCohq"
      },
      "source": [
        "! head -n 120 adult.csv | tail -n 20 > adult_sample.csv"
      ],
      "execution_count": 6,
      "outputs": []
    },
    {
      "cell_type": "code",
      "metadata": {
        "id": "Wz8FMsmtB6o3"
      },
      "source": [
        "!cat adult_sample.csv header.csv > adult_sample_with_header.csv"
      ],
      "execution_count": 7,
      "outputs": []
    }
  ]
}